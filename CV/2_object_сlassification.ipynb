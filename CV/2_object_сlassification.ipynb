{
 "cells": [
  {
   "cell_type": "markdown",
   "id": "587ac795",
   "metadata": {
    "papermill": {
     "duration": 0.007532,
     "end_time": "2024-08-26T18:34:38.515256",
     "exception": false,
     "start_time": "2024-08-26T18:34:38.507724",
     "status": "completed"
    },
    "tags": []
   },
   "source": [
    "## Digit Recognizer\n",
    "https://www.kaggle.com/c/digit-recognizer"
   ]
  },
  {
   "cell_type": "code",
   "execution_count": 1,
   "id": "2fd617b9",
   "metadata": {
    "execution": {
     "iopub.execute_input": "2024-08-26T18:34:38.532252Z",
     "iopub.status.busy": "2024-08-26T18:34:38.531780Z",
     "iopub.status.idle": "2024-08-26T18:34:41.248212Z",
     "shell.execute_reply": "2024-08-26T18:34:41.247054Z"
    },
    "papermill": {
     "duration": 2.728703,
     "end_time": "2024-08-26T18:34:41.251144",
     "exception": false,
     "start_time": "2024-08-26T18:34:38.522441",
     "status": "completed"
    },
    "tags": []
   },
   "outputs": [],
   "source": [
    "%matplotlib inline\n",
    "import cv2\n",
    "import numpy as np\n",
    "import matplotlib.pyplot as plt\n",
    "\n",
    "from sklearn.ensemble import RandomForestClassifier\n",
    "from sklearn.metrics import accuracy_score\n",
    "from sklearn.model_selection import train_test_split\n",
    "from sklearn.metrics import classification_report"
   ]
  },
  {
   "cell_type": "markdown",
   "id": "e781b5cc",
   "metadata": {
    "papermill": {
     "duration": 0.005752,
     "end_time": "2024-08-26T18:34:41.263178",
     "exception": false,
     "start_time": "2024-08-26T18:34:41.257426",
     "status": "completed"
    },
    "tags": []
   },
   "source": [
    "## Загружаем исходные данные"
   ]
  },
  {
   "cell_type": "code",
   "execution_count": 2,
   "id": "8e2e2e98",
   "metadata": {
    "execution": {
     "iopub.execute_input": "2024-08-26T18:34:41.277905Z",
     "iopub.status.busy": "2024-08-26T18:34:41.277305Z",
     "iopub.status.idle": "2024-08-26T18:34:47.827014Z",
     "shell.execute_reply": "2024-08-26T18:34:47.825481Z"
    },
    "papermill": {
     "duration": 6.560978,
     "end_time": "2024-08-26T18:34:47.830085",
     "exception": false,
     "start_time": "2024-08-26T18:34:41.269107",
     "status": "completed"
    },
    "tags": []
   },
   "outputs": [],
   "source": [
    "train = np.loadtxt('/kaggle/input/digit-recognizer/train.csv', delimiter=',', skiprows=1)\n",
    "test = np.loadtxt('/kaggle/input/digit-recognizer/test.csv', delimiter=',', skiprows=1)"
   ]
  },
  {
   "cell_type": "code",
   "execution_count": 3,
   "id": "1a40c9c7",
   "metadata": {
    "execution": {
     "iopub.execute_input": "2024-08-26T18:34:47.845215Z",
     "iopub.status.busy": "2024-08-26T18:34:47.843961Z",
     "iopub.status.idle": "2024-08-26T18:34:48.185022Z",
     "shell.execute_reply": "2024-08-26T18:34:48.183788Z"
    },
    "papermill": {
     "duration": 0.35151,
     "end_time": "2024-08-26T18:34:48.187920",
     "exception": false,
     "start_time": "2024-08-26T18:34:47.836410",
     "status": "completed"
    },
    "tags": []
   },
   "outputs": [],
   "source": [
    "# сохраняем разметку в отдельную переменную\n",
    "train_label = train[:, 0]\n",
    "# приводим размерность к удобному для обаботки виду\n",
    "train_img = np.resize(train[:, 1:], (train.shape[0], 28, 28))\n",
    "test_img = np.resize(test, (test.shape[0], 28, 28))"
   ]
  },
  {
   "cell_type": "code",
   "execution_count": 4,
   "id": "da371f57",
   "metadata": {
    "execution": {
     "iopub.execute_input": "2024-08-26T18:34:48.202920Z",
     "iopub.status.busy": "2024-08-26T18:34:48.202441Z",
     "iopub.status.idle": "2024-08-26T18:34:48.211931Z",
     "shell.execute_reply": "2024-08-26T18:34:48.210780Z"
    },
    "papermill": {
     "duration": 0.020709,
     "end_time": "2024-08-26T18:34:48.214856",
     "exception": false,
     "start_time": "2024-08-26T18:34:48.194147",
     "status": "completed"
    },
    "tags": []
   },
   "outputs": [
    {
     "data": {
      "text/plain": [
       "((42000, 28, 28), (28000, 28, 28))"
      ]
     },
     "execution_count": 4,
     "metadata": {},
     "output_type": "execute_result"
    }
   ],
   "source": [
    "train_img.shape, test_img.shape"
   ]
  },
  {
   "cell_type": "markdown",
   "id": "237bc7e9",
   "metadata": {
    "papermill": {
     "duration": 0.006569,
     "end_time": "2024-08-26T18:34:48.228146",
     "exception": false,
     "start_time": "2024-08-26T18:34:48.221577",
     "status": "completed"
    },
    "tags": []
   },
   "source": [
    "## Визуализируем исходные данные"
   ]
  },
  {
   "cell_type": "code",
   "execution_count": 5,
   "id": "02f13fbd",
   "metadata": {
    "execution": {
     "iopub.execute_input": "2024-08-26T18:34:48.242536Z",
     "iopub.status.busy": "2024-08-26T18:34:48.242119Z",
     "iopub.status.idle": "2024-08-26T18:34:49.368392Z",
     "shell.execute_reply": "2024-08-26T18:34:49.367058Z"
    },
    "papermill": {
     "duration": 1.136997,
     "end_time": "2024-08-26T18:34:49.371483",
     "exception": false,
     "start_time": "2024-08-26T18:34:48.234486",
     "status": "completed"
    },
    "scrolled": true,
    "tags": []
   },
   "outputs": [
    {
     "data": {
      "image/png": "[encoded data removed]",
      "text/plain": [
       "<Figure size 2000x1000 with 5 Axes>"
      ]
     },
     "metadata": {},
     "output_type": "display_data"
    }
   ],
   "source": [
    "fig = plt.figure(figsize=(20, 10))\n",
    "for i, img in enumerate(train_img[0:5], 1):\n",
    "    subplot = fig.add_subplot(1, 7, i)\n",
    "    plt.imshow(img, cmap='gray');\n",
    "    subplot.set_title('%s' % train_label[i - 1]);"
   ]
  },
  {
   "cell_type": "markdown",
   "id": "177426f4",
   "metadata": {
    "papermill": {
     "duration": 0.006687,
     "end_time": "2024-08-26T18:34:49.386101",
     "exception": false,
     "start_time": "2024-08-26T18:34:49.379414",
     "status": "completed"
    },
    "tags": []
   },
   "source": [
    "## HOG"
   ]
  },
  {
   "cell_type": "code",
   "execution_count": 6,
   "id": "d69ba604",
   "metadata": {
    "execution": {
     "iopub.execute_input": "2024-08-26T18:34:49.402473Z",
     "iopub.status.busy": "2024-08-26T18:34:49.402007Z",
     "iopub.status.idle": "2024-08-26T18:34:49.414884Z",
     "shell.execute_reply": "2024-08-26T18:34:49.413489Z"
    },
    "papermill": {
     "duration": 0.023751,
     "end_time": "2024-08-26T18:34:49.417541",
     "exception": false,
     "start_time": "2024-08-26T18:34:49.393790",
     "status": "completed"
    },
    "tags": []
   },
   "outputs": [],
   "source": [
    "winSize = (28,28)\n",
    "blockSize = (14,14)\n",
    "blockStride = (14,14)\n",
    "cellSize = (7,7)\n",
    "nbins = 9\n",
    "derivAperture = 1\n",
    "winSigma = 4.\n",
    "histogramNormType = 0\n",
    "L2HysThreshold = 2.0000000000000001e-01\n",
    "gammaCorrection = 0\n",
    "nlevels = 64\n",
    "\n",
    "hog = cv2.HOGDescriptor(winSize,\n",
    "                        blockSize,\n",
    "                        blockStride,\n",
    "                        cellSize,\n",
    "                        nbins,\n",
    "                        derivAperture,\n",
    "                        winSigma,\n",
    "                        histogramNormType,\n",
    "                        L2HysThreshold,\n",
    "                        gammaCorrection,\n",
    "                        nlevels)\n",
    "\n",
    "def get_hog(imgs):\n",
    "    hog_data = np.zeros((imgs.shape[0], len(hog.compute(imgs[0].astype(np.uint8)))))\n",
    "\n",
    "    for i, img in enumerate(imgs):\n",
    "        hog_data[i] = hog.compute(np.uint8(img))\n",
    "        \n",
    "    return hog_data"
   ]
  },
  {
   "cell_type": "markdown",
   "id": "faadfcc1",
   "metadata": {
    "papermill": {
     "duration": 0.006389,
     "end_time": "2024-08-26T18:34:49.431154",
     "exception": false,
     "start_time": "2024-08-26T18:34:49.424765",
     "status": "completed"
    },
    "tags": []
   },
   "source": [
    "## RandomForestClassifier"
   ]
  },
  {
   "cell_type": "code",
   "execution_count": 7,
   "id": "8c80c8d8",
   "metadata": {
    "execution": {
     "iopub.execute_input": "2024-08-26T18:34:49.447594Z",
     "iopub.status.busy": "2024-08-26T18:34:49.447154Z",
     "iopub.status.idle": "2024-08-26T18:35:01.321001Z",
     "shell.execute_reply": "2024-08-26T18:35:01.319682Z"
    },
    "papermill": {
     "duration": 11.885958,
     "end_time": "2024-08-26T18:35:01.324209",
     "exception": false,
     "start_time": "2024-08-26T18:34:49.438251",
     "status": "completed"
    },
    "tags": []
   },
   "outputs": [
    {
     "data": {
      "text/html": [
       "<style>#sk-container-id-1 {color: black;background-color: white;}#sk-container-id-1 pre{padding: 0;}#sk-container-id-1 div.sk-toggleable {background-color: white;}#sk-container-id-1 label.sk-toggleable__label {cursor: pointer;display: block;width: 100%;margin-bottom: 0;padding: 0.3em;box-sizing: border-box;text-align: center;}#sk-container-id-1 label.sk-toggleable__label-arrow:before {content: \"▸\";float: left;margin-right: 0.25em;color: #696969;}#sk-container-id-1 label.sk-toggleable__label-arrow:hover:before {color: black;}#sk-container-id-1 div.sk-estimator:hover label.sk-toggleable__label-arrow:before {color: black;}#sk-container-id-1 div.sk-toggleable__content {max-height: 0;max-width: 0;overflow: hidden;text-align: left;background-color: #f0f8ff;}#sk-container-id-1 div.sk-toggleable__content pre {margin: 0.2em;color: black;border-radius: 0.25em;background-color: #f0f8ff;}#sk-container-id-1 input.sk-toggleable__control:checked~div.sk-toggleable__content {max-height: 200px;max-width: 100%;overflow: auto;}#sk-container-id-1 input.sk-toggleable__control:checked~label.sk-toggleable__label-arrow:before {content: \"▾\";}#sk-container-id-1 div.sk-estimator input.sk-toggleable__control:checked~label.sk-toggleable__label {background-color: #d4ebff;}#sk-container-id-1 div.sk-label input.sk-toggleable__control:checked~label.sk-toggleable__label {background-color: #d4ebff;}#sk-container-id-1 input.sk-hidden--visually {border: 0;clip: rect(1px 1px 1px 1px);clip: rect(1px, 1px, 1px, 1px);height: 1px;margin: -1px;overflow: hidden;padding: 0;position: absolute;width: 1px;}#sk-container-id-1 div.sk-estimator {font-family: monospace;background-color: #f0f8ff;border: 1px dotted black;border-radius: 0.25em;box-sizing: border-box;margin-bottom: 0.5em;}#sk-container-id-1 div.sk-estimator:hover {background-color: #d4ebff;}#sk-container-id-1 div.sk-parallel-item::after {content: \"\";width: 100%;border-bottom: 1px solid gray;flex-grow: 1;}#sk-container-id-1 div.sk-label:hover label.sk-toggleable__label {background-color: #d4ebff;}#sk-container-id-1 div.sk-serial::before {content: \"\";position: absolute;border-left: 1px solid gray;box-sizing: border-box;top: 0;bottom: 0;left: 50%;z-index: 0;}#sk-container-id-1 div.sk-serial {display: flex;flex-direction: column;align-items: center;background-color: white;padding-right: 0.2em;padding-left: 0.2em;position: relative;}#sk-container-id-1 div.sk-item {position: relative;z-index: 1;}#sk-container-id-1 div.sk-parallel {display: flex;align-items: stretch;justify-content: center;background-color: white;position: relative;}#sk-container-id-1 div.sk-item::before, #sk-container-id-1 div.sk-parallel-item::before {content: \"\";position: absolute;border-left: 1px solid gray;box-sizing: border-box;top: 0;bottom: 0;left: 50%;z-index: -1;}#sk-container-id-1 div.sk-parallel-item {display: flex;flex-direction: column;z-index: 1;position: relative;background-color: white;}#sk-container-id-1 div.sk-parallel-item:first-child::after {align-self: flex-end;width: 50%;}#sk-container-id-1 div.sk-parallel-item:last-child::after {align-self: flex-start;width: 50%;}#sk-container-id-1 div.sk-parallel-item:only-child::after {width: 0;}#sk-container-id-1 div.sk-dashed-wrapped {border: 1px dashed gray;margin: 0 0.4em 0.5em 0.4em;box-sizing: border-box;padding-bottom: 0.4em;background-color: white;}#sk-container-id-1 div.sk-label label {font-family: monospace;font-weight: bold;display: inline-block;line-height: 1.2em;}#sk-container-id-1 div.sk-label-container {text-align: center;}#sk-container-id-1 div.sk-container {/* jupyter's `normalize.less` sets `[hidden] { display: none; }` but bootstrap.min.css set `[hidden] { display: none !important; }` so we also need the `!important` here to be able to override the default hidden behavior on the sphinx rendered scikit-learn.org. See: https://github.com/scikit-learn/scikit-learn/issues/21755 */display: inline-block !important;position: relative;}#sk-container-id-1 div.sk-text-repr-fallback {display: none;}</style><div id=\"sk-container-id-1\" class=\"sk-top-container\"><div class=\"sk-text-repr-fallback\"><pre>RandomForestClassifier(n_estimators=20)</pre><b>In a Jupyter environment, please rerun this cell to show the HTML representation or trust the notebook. <br />On GitHub, the HTML representation is unable to render, please try loading this page with nbviewer.org.</b></div><div class=\"sk-container\" hidden><div class=\"sk-item\"><div class=\"sk-estimator sk-toggleable\"><input class=\"sk-toggleable__control sk-hidden--visually\" id=\"sk-estimator-id-1\" type=\"checkbox\" checked><label for=\"sk-estimator-id-1\" class=\"sk-toggleable__label sk-toggleable__label-arrow\">RandomForestClassifier</label><div class=\"sk-toggleable__content\"><pre>RandomForestClassifier(n_estimators=20)</pre></div></div></div></div></div>"
      ],
      "text/plain": [
       "RandomForestClassifier(n_estimators=20)"
      ]
     },
     "execution_count": 7,
     "metadata": {},
     "output_type": "execute_result"
    }
   ],
   "source": [
    "hog_train = get_hog(train_img)\n",
    "\n",
    "y_train, y_val, x_train, x_val = train_test_split(\n",
    "    train_label, hog_train, test_size=0.2,\n",
    "    random_state=42)\n",
    "\n",
    "model = RandomForestClassifier(n_estimators = 20)\n",
    "model.fit(x_train, y_train)"
   ]
  },
  {
   "cell_type": "code",
   "execution_count": 8,
   "id": "3ccedbf9",
   "metadata": {
    "execution": {
     "iopub.execute_input": "2024-08-26T18:35:01.341191Z",
     "iopub.status.busy": "2024-08-26T18:35:01.340492Z",
     "iopub.status.idle": "2024-08-26T18:35:01.439341Z",
     "shell.execute_reply": "2024-08-26T18:35:01.437444Z"
    },
    "papermill": {
     "duration": 0.111659,
     "end_time": "2024-08-26T18:35:01.443679",
     "exception": false,
     "start_time": "2024-08-26T18:35:01.332020",
     "status": "completed"
    },
    "tags": []
   },
   "outputs": [
    {
     "name": "stdout",
     "output_type": "stream",
     "text": [
      "Accuracy: 0.96\n",
      "              precision    recall  f1-score   support\n",
      "\n",
      "         0.0       0.97      0.99      0.98       816\n",
      "         1.0       0.98      0.99      0.98       909\n",
      "         2.0       0.94      0.97      0.95       846\n",
      "         3.0       0.97      0.95      0.96       937\n",
      "         4.0       0.97      0.96      0.97       839\n",
      "         5.0       0.97      0.95      0.96       702\n",
      "         6.0       0.98      0.98      0.98       785\n",
      "         7.0       0.95      0.95      0.95       893\n",
      "         8.0       0.95      0.93      0.94       835\n",
      "         9.0       0.94      0.94      0.94       838\n",
      "\n",
      "    accuracy                           0.96      8400\n",
      "   macro avg       0.96      0.96      0.96      8400\n",
      "weighted avg       0.96      0.96      0.96      8400\n",
      "\n"
     ]
    }
   ],
   "source": [
    "pred_val = model.predict(x_val)\n",
    "\n",
    "print('Accuracy: %s' % accuracy_score(y_val, pred_val))\n",
    "print(classification_report(y_val, pred_val))"
   ]
  },
  {
   "cell_type": "markdown",
   "id": "5586866f",
   "metadata": {
    "papermill": {
     "duration": 0.008906,
     "end_time": "2024-08-26T18:35:01.460136",
     "exception": false,
     "start_time": "2024-08-26T18:35:01.451230",
     "status": "completed"
    },
    "tags": []
   },
   "source": [
    "## Предсказания на тестовыйх данных"
   ]
  },
  {
   "cell_type": "code",
   "execution_count": 9,
   "id": "54e07e6c",
   "metadata": {
    "execution": {
     "iopub.execute_input": "2024-08-26T18:35:01.479469Z",
     "iopub.status.busy": "2024-08-26T18:35:01.479009Z",
     "iopub.status.idle": "2024-08-26T18:35:04.128631Z",
     "shell.execute_reply": "2024-08-26T18:35:04.126757Z"
    },
    "papermill": {
     "duration": 2.664968,
     "end_time": "2024-08-26T18:35:04.133343",
     "exception": false,
     "start_time": "2024-08-26T18:35:01.468375",
     "status": "completed"
    },
    "tags": []
   },
   "outputs": [
    {
     "data": {
      "image/png": "[encoded data removed]",
      "text/plain": [
       "<Figure size 2000x1000 with 5 Axes>"
      ]
     },
     "metadata": {},
     "output_type": "display_data"
    }
   ],
   "source": [
    "hog_train = get_hog(test_img)\n",
    "pred_test = model.predict(hog_train)\n",
    "\n",
    "fig = plt.figure(figsize=(20, 10))\n",
    "for i, img in enumerate(test_img[0:5], 1):\n",
    "    subplot = fig.add_subplot(1, 7, i)\n",
    "    plt.imshow(img, cmap='gray');\n",
    "    subplot.set_title('%s' % pred_test[i - 1]);"
   ]
  },
  {
   "cell_type": "markdown",
   "id": "b00d274e",
   "metadata": {
    "papermill": {
     "duration": 0.008035,
     "end_time": "2024-08-26T18:35:04.149770",
     "exception": false,
     "start_time": "2024-08-26T18:35:04.141735",
     "status": "completed"
    },
    "tags": []
   },
   "source": [
    "## Готовим файл для отправки"
   ]
  },
  {
   "cell_type": "code",
   "execution_count": 10,
   "id": "44354174",
   "metadata": {
    "execution": {
     "iopub.execute_input": "2024-08-26T18:35:04.168680Z",
     "iopub.status.busy": "2024-08-26T18:35:04.168178Z",
     "iopub.status.idle": "2024-08-26T18:35:04.208567Z",
     "shell.execute_reply": "2024-08-26T18:35:04.206831Z"
    },
    "papermill": {
     "duration": 0.054443,
     "end_time": "2024-08-26T18:35:04.212040",
     "exception": false,
     "start_time": "2024-08-26T18:35:04.157597",
     "status": "completed"
    },
    "tags": []
   },
   "outputs": [],
   "source": [
    "with open('submit.txt', 'w') as dst:\n",
    "    dst.write('ImageId,Label\\n')\n",
    "    for i, p in enumerate(pred_test.astype(int), 1):\n",
    "        dst.write('%s,%s\\n' % (i, p))"
   ]
  },
  {
   "cell_type": "code",
   "execution_count": 11,
   "id": "0a96b60a",
   "metadata": {
    "execution": {
     "iopub.execute_input": "2024-08-26T18:35:04.232007Z",
     "iopub.status.busy": "2024-08-26T18:35:04.231500Z",
     "iopub.status.idle": "2024-08-26T18:35:05.516501Z",
     "shell.execute_reply": "2024-08-26T18:35:05.514609Z"
    },
    "papermill": {
     "duration": 1.300185,
     "end_time": "2024-08-26T18:35:05.520850",
     "exception": false,
     "start_time": "2024-08-26T18:35:04.220665",
     "status": "completed"
    },
    "tags": []
   },
   "outputs": [
    {
     "name": "stdout",
     "output_type": "stream",
     "text": [
      "ImageId,Label\r\n",
      "1,2\r\n",
      "2,0\r\n",
      "3,9\r\n",
      "4,8\r\n",
      "5,3\r\n",
      "6,7\r\n",
      "7,0\r\n",
      "8,3\r\n",
      "9,0\r\n"
     ]
    }
   ],
   "source": [
    "!head submit.txt"
   ]
  }
 ],
 "metadata": {
  "kaggle": {
   "accelerator": "none",
   "dataSources": [
    {
     "databundleVersionId": 861823,
     "sourceId": 3004,
     "sourceType": "competition"
    }
   ],
   "dockerImageVersionId": 30761,
   "isGpuEnabled": false,
   "isInternetEnabled": false,
   "language": "python",
   "sourceType": "notebook"
  },
  "kernelspec": {
   "display_name": "Python 3",
   "language": "python",
   "name": "python3"
  },
  "language_info": {
   "codemirror_mode": {
    "name": "ipython",
    "version": 3
   },
   "file_extension": ".py",
   "mimetype": "text/x-python",
   "name": "python",
   "nbconvert_exporter": "python",
   "pygments_lexer": "ipython3",
   "version": "3.10.14"
  },
  "papermill": {
   "default_parameters": {},
   "duration": 32.083922,
   "end_time": "2024-08-26T18:35:06.459143",
   "environment_variables": {},
   "exception": null,
   "input_path": "__notebook__.ipynb",
   "output_path": "__notebook__.ipynb",
   "parameters": {},
   "start_time": "2024-08-26T18:34:34.375221",
   "version": "2.6.0"
  }
 },
 "nbformat": 4,
 "nbformat_minor": 5
}
